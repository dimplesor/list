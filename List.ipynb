{
 "cells": [
  {
   "cell_type": "code",
   "execution_count": null,
   "id": "853e0828-641d-4bc8-a893-99b7c94968f5",
   "metadata": {},
   "outputs": [],
   "source": [
    "## List"
   ]
  },
  {
   "cell_type": "code",
   "execution_count": 1,
   "id": "0fac9bcc-2c03-40af-a692-1128c4194e8f",
   "metadata": {},
   "outputs": [
    {
     "data": {
      "text/plain": [
       "[]"
      ]
     },
     "execution_count": 1,
     "metadata": {},
     "output_type": "execute_result"
    }
   ],
   "source": [
    "# empty List\n",
    "[ ]"
   ]
  },
  {
   "cell_type": "code",
   "execution_count": 2,
   "id": "68bb88b3-e698-474d-ba91-c28da5aa995e",
   "metadata": {},
   "outputs": [
    {
     "data": {
      "text/plain": [
       "[1, 2, 3]"
      ]
     },
     "execution_count": 2,
     "metadata": {},
     "output_type": "execute_result"
    }
   ],
   "source": [
    "#List of Numbers\n",
    "[1,2,3]"
   ]
  },
  {
   "cell_type": "code",
   "execution_count": 6,
   "id": "3ad38bb1-b953-448d-8ba0-6c9e4ad36dcf",
   "metadata": {},
   "outputs": [
    {
     "data": {
      "text/plain": [
       "['a1', 'a2', 'a3']"
      ]
     },
     "execution_count": 6,
     "metadata": {},
     "output_type": "execute_result"
    }
   ],
   "source": [
    "# List of Strings\n",
    "['a1', 'a2', 'a3']"
   ]
  },
  {
   "cell_type": "code",
   "execution_count": 7,
   "id": "af54dfef-f116-483a-8bd6-11b89728627c",
   "metadata": {},
   "outputs": [
    {
     "data": {
      "text/plain": [
       "[1, 'a1', 2, 'a2', 3, 'a3']"
      ]
     },
     "execution_count": 7,
     "metadata": {},
     "output_type": "execute_result"
    }
   ],
   "source": [
    "# List of Numbers and Strings i.e Multiple type of data\n",
    "\n",
    "[1, 'a1', 2, 'a2', 3, 'a3']"
   ]
  },
  {
   "cell_type": "code",
   "execution_count": 8,
   "id": "03d21c5b-ee42-4282-889e-becd336cc1d6",
   "metadata": {},
   "outputs": [
    {
     "data": {
      "text/plain": [
       "[223]"
      ]
     },
     "execution_count": 8,
     "metadata": {},
     "output_type": "execute_result"
    }
   ],
   "source": [
    "[223]"
   ]
  },
  {
   "cell_type": "code",
   "execution_count": 10,
   "id": "453ccd5a-1718-491d-8787-7ac4f948831a",
   "metadata": {},
   "outputs": [
    {
     "name": "stdout",
     "output_type": "stream",
     "text": [
      "[2, 3, 6]\n"
     ]
    }
   ],
   "source": [
    "l1 = [1+1, 1+2, 1+5]\n",
    "print(l1)\n"
   ]
  },
  {
   "cell_type": "code",
   "execution_count": 11,
   "id": "dc6e83c9-9db0-4f75-9534-6a3ce1b767dd",
   "metadata": {},
   "outputs": [
    {
     "name": "stdout",
     "output_type": "stream",
     "text": [
      "[[1, 2, 3], [4, 5, 6]]\n"
     ]
    }
   ],
   "source": [
    "l2 = [[1,2,3,], [4,5,6,]]\n",
    "print(l2)"
   ]
  },
  {
   "cell_type": "code",
   "execution_count": 13,
   "id": "5b6fc341-1c37-4057-9de7-129a90711689",
   "metadata": {},
   "outputs": [
    {
     "name": "stdout",
     "output_type": "stream",
     "text": [
      "[[], 2, 3, [4, 5], 5, 1, 0.125, 14]\n"
     ]
    }
   ],
   "source": [
    "l3 = [[],2,3,[4,5],2+3,4-3,5/40,2*7]\n",
    "print(l3)"
   ]
  },
  {
   "cell_type": "markdown",
   "id": "c3917c1f-de35-4ef2-a73e-12af65da12b8",
   "metadata": {},
   "source": [
    "# Access List"
   ]
  },
  {
   "cell_type": "code",
   "execution_count": 23,
   "id": "c3df9023-27e7-4d3a-aff6-2652128c1d50",
   "metadata": {},
   "outputs": [
    {
     "name": "stdout",
     "output_type": "stream",
     "text": [
      "[2, 3, 6]\n"
     ]
    }
   ],
   "source": [
    "print(l1)"
   ]
  },
  {
   "cell_type": "code",
   "execution_count": 24,
   "id": "76c17ec8-07a1-4839-b0b6-be08652deac3",
   "metadata": {},
   "outputs": [
    {
     "name": "stdout",
     "output_type": "stream",
     "text": [
      "2\n"
     ]
    }
   ],
   "source": [
    "print(l1[0])"
   ]
  },
  {
   "cell_type": "code",
   "execution_count": 25,
   "id": "62dcdab5-d66e-48ce-9a22-ee7614b1802c",
   "metadata": {},
   "outputs": [
    {
     "name": "stdout",
     "output_type": "stream",
     "text": [
      "2 [4, 5, 6]\n"
     ]
    }
   ],
   "source": [
    "print(l1[0],l2[1])"
   ]
  },
  {
   "cell_type": "code",
   "execution_count": 26,
   "id": "4759977b-f1a2-4a67-8f13-8a93cd45f2ef",
   "metadata": {},
   "outputs": [
    {
     "name": "stdout",
     "output_type": "stream",
     "text": [
      "[[1, 2, 3], [4, 5, 6]]\n"
     ]
    }
   ],
   "source": [
    "print(l2)\n"
   ]
  },
  {
   "cell_type": "code",
   "execution_count": 28,
   "id": "9852caf8-922c-4e6b-b02d-b44b3867071c",
   "metadata": {},
   "outputs": [
    {
     "name": "stdout",
     "output_type": "stream",
     "text": [
      "[1, 2, 3]\n"
     ]
    }
   ],
   "source": [
    "print(l2[0])"
   ]
  },
  {
   "cell_type": "code",
   "execution_count": 29,
   "id": "4babefd1-b950-47ed-bb39-e626b50dc2bb",
   "metadata": {},
   "outputs": [
    {
     "name": "stdout",
     "output_type": "stream",
     "text": [
      "1\n"
     ]
    }
   ],
   "source": [
    "print(l2[0][0])"
   ]
  },
  {
   "cell_type": "code",
   "execution_count": 30,
   "id": "d969d026-ab02-4f1b-9825-a7660f0a456e",
   "metadata": {},
   "outputs": [
    {
     "name": "stdout",
     "output_type": "stream",
     "text": [
      "5\n"
     ]
    }
   ],
   "source": [
    "print(l2[1][1])"
   ]
  },
  {
   "cell_type": "code",
   "execution_count": 31,
   "id": "f76886c5-c63f-40cb-8183-f0b2a2d58d31",
   "metadata": {},
   "outputs": [
    {
     "name": "stdout",
     "output_type": "stream",
     "text": [
      "[[], 2, 3, [4, 5], 5, 1, 0.125, 14]\n"
     ]
    }
   ],
   "source": [
    "print(l3)"
   ]
  },
  {
   "cell_type": "code",
   "execution_count": 32,
   "id": "871a5287-b55e-4ce8-843d-6d6656a297e4",
   "metadata": {},
   "outputs": [
    {
     "name": "stdout",
     "output_type": "stream",
     "text": [
      "[5, 1, 0.125]\n"
     ]
    }
   ],
   "source": [
    "print(l3[4:7])"
   ]
  },
  {
   "cell_type": "code",
   "execution_count": 33,
   "id": "cfa61222-b29b-4699-8499-56aaadbf099f",
   "metadata": {},
   "outputs": [
    {
     "data": {
      "text/plain": [
       "int"
      ]
     },
     "execution_count": 33,
     "metadata": {},
     "output_type": "execute_result"
    }
   ],
   "source": [
    "type(1)"
   ]
  },
  {
   "cell_type": "code",
   "execution_count": 34,
   "id": "995362c5-3ba0-4488-81a1-77169093d08b",
   "metadata": {},
   "outputs": [
    {
     "data": {
      "text/plain": [
       "int"
      ]
     },
     "execution_count": 34,
     "metadata": {},
     "output_type": "execute_result"
    }
   ],
   "source": [
    "type(-1)"
   ]
  },
  {
   "cell_type": "code",
   "execution_count": 35,
   "id": "2f577f5d-24b4-4643-888f-c396db87a473",
   "metadata": {},
   "outputs": [
    {
     "data": {
      "text/plain": [
       "int"
      ]
     },
     "execution_count": 35,
     "metadata": {},
     "output_type": "execute_result"
    }
   ],
   "source": [
    "type(3)"
   ]
  },
  {
   "cell_type": "code",
   "execution_count": 38,
   "id": "ad0ee319-baeb-432c-8162-dab8a8954b5c",
   "metadata": {},
   "outputs": [
    {
     "data": {
      "text/plain": [
       "int"
      ]
     },
     "execution_count": 38,
     "metadata": {},
     "output_type": "execute_result"
    }
   ],
   "source": [
    "type(5)"
   ]
  },
  {
   "cell_type": "code",
   "execution_count": 40,
   "id": "cdb6c1b3-7deb-4a2d-81fd-8eb46169a822",
   "metadata": {},
   "outputs": [
    {
     "data": {
      "text/plain": [
       "bool"
      ]
     },
     "execution_count": 40,
     "metadata": {},
     "output_type": "execute_result"
    }
   ],
   "source": [
    "type(True)"
   ]
  },
  {
   "cell_type": "code",
   "execution_count": 41,
   "id": "a81f3cd5-b489-429b-a7da-1de074b4f775",
   "metadata": {},
   "outputs": [
    {
     "data": {
      "text/plain": [
       "str"
      ]
     },
     "execution_count": 41,
     "metadata": {},
     "output_type": "execute_result"
    }
   ],
   "source": [
    "type('a1')"
   ]
  },
  {
   "cell_type": "code",
   "execution_count": 42,
   "id": "9885991e-98d4-4f86-9da7-90e2a86c9127",
   "metadata": {},
   "outputs": [
    {
     "name": "stdout",
     "output_type": "stream",
     "text": [
      "[0, 1, 2, 3, 45, 6, 7, 8, 9]\n"
     ]
    }
   ],
   "source": [
    "l3 = [0,1,2,3,45,6,7,8,9]\n",
    "print(l3)\n"
   ]
  },
  {
   "cell_type": "code",
   "execution_count": 43,
   "id": "ec5c8ea5-21e4-485b-9572-2fe3cc5cb6da",
   "metadata": {},
   "outputs": [
    {
     "name": "stdout",
     "output_type": "stream",
     "text": [
      "[45, 6, 7]\n"
     ]
    }
   ],
   "source": [
    "print(l3[4:7])"
   ]
  },
  {
   "cell_type": "code",
   "execution_count": 44,
   "id": "cdfdaf5b-752a-44c3-8fef-3a4a7b76dcd7",
   "metadata": {},
   "outputs": [
    {
     "name": "stdout",
     "output_type": "stream",
     "text": [
      "[0, 2, 45, 7, 9]\n"
     ]
    }
   ],
   "source": [
    "print(l3[::2])"
   ]
  },
  {
   "cell_type": "code",
   "execution_count": 45,
   "id": "7bdba940-d678-44a0-b504-c35f91f5cca2",
   "metadata": {},
   "outputs": [
    {
     "name": "stdout",
     "output_type": "stream",
     "text": [
      "[2]\n"
     ]
    }
   ],
   "source": [
    "print(l3[2:4:8])"
   ]
  },
  {
   "cell_type": "code",
   "execution_count": 46,
   "id": "f5ce0c69-a5d4-4acb-9950-f27f9076dff2",
   "metadata": {},
   "outputs": [
    {
     "name": "stdout",
     "output_type": "stream",
     "text": [
      "[2, 3, 6] [[1, 2, 3], [4, 5, 6]]\n"
     ]
    }
   ],
   "source": [
    "print(l1,l2)"
   ]
  },
  {
   "cell_type": "code",
   "execution_count": 47,
   "id": "d2bddc40-8cc2-47ea-9bc3-f4a25f07cf50",
   "metadata": {},
   "outputs": [
    {
     "name": "stdout",
     "output_type": "stream",
     "text": [
      "[[2, 3, 6], 'new list', [[1, 2, 3], [4, 5, 6]]]\n"
     ]
    }
   ],
   "source": [
    "l5 =[l1,'new list', l2]\n",
    "print(l5)"
   ]
  },
  {
   "cell_type": "code",
   "execution_count": 48,
   "id": "ed534dbb-4698-4a41-aefb-220343c59714",
   "metadata": {},
   "outputs": [
    {
     "name": "stdout",
     "output_type": "stream",
     "text": [
      "[4, 5, 6]\n"
     ]
    }
   ],
   "source": [
    "print(l2[1])"
   ]
  },
  {
   "cell_type": "code",
   "execution_count": 55,
   "id": "5ec05040-71a2-48f6-8141-5f02b2698836",
   "metadata": {},
   "outputs": [
    {
     "name": "stdout",
     "output_type": "stream",
     "text": [
      "5\n"
     ]
    }
   ],
   "source": [
    "print(l5[2][1][1])"
   ]
  },
  {
   "cell_type": "markdown",
   "id": "c007ba13-5fc5-434f-8f72-2c4b609e2ef7",
   "metadata": {},
   "source": [
    "# Range"
   ]
  },
  {
   "cell_type": "code",
   "execution_count": 56,
   "id": "4891095d-e950-40aa-a870-b203b46dc8de",
   "metadata": {},
   "outputs": [
    {
     "name": "stdout",
     "output_type": "stream",
     "text": [
      "range(1, 2)\n"
     ]
    }
   ],
   "source": [
    "print(range(1,2))"
   ]
  },
  {
   "cell_type": "code",
   "execution_count": 63,
   "id": "938687f9-67af-42fb-8283-e3c9261e3332",
   "metadata": {},
   "outputs": [
    {
     "name": "stdout",
     "output_type": "stream",
     "text": [
      "range(2, 10) <class 'range'>\n"
     ]
    }
   ],
   "source": [
    "r1 = range(2,10)\n",
    "print(r1, type(r1))"
   ]
  },
  {
   "cell_type": "code",
   "execution_count": 64,
   "id": "61d739b9-2e26-40e1-9486-0a917352c551",
   "metadata": {},
   "outputs": [
    {
     "name": "stdout",
     "output_type": "stream",
     "text": [
      "[2, 3, 4, 5, 6, 7, 8, 9]\n"
     ]
    }
   ],
   "source": [
    "lr1 = list(range(2,10))\n",
    "print(lr1)"
   ]
  },
  {
   "cell_type": "code",
   "execution_count": 66,
   "id": "90a0b3c0-cca8-4e0e-b6f0-3e4eb1bb826d",
   "metadata": {},
   "outputs": [
    {
     "name": "stdout",
     "output_type": "stream",
     "text": [
      "<class 'list'>\n",
      "[]\n"
     ]
    }
   ],
   "source": [
    "lr2 = list(range(23,3,10))\n",
    "print(type(lr2))\n",
    "print(lr2)"
   ]
  },
  {
   "cell_type": "code",
   "execution_count": 68,
   "id": "78c2f5c0-6a39-4e66-953a-6e62111a153d",
   "metadata": {},
   "outputs": [
    {
     "name": "stdout",
     "output_type": "stream",
     "text": [
      "[3]\n"
     ]
    }
   ],
   "source": [
    "lr3 = list(range(3,4,5))\n",
    "print(lr3)"
   ]
  },
  {
   "cell_type": "code",
   "execution_count": 69,
   "id": "ed438ff2-53e2-464b-8186-a58547983d3e",
   "metadata": {},
   "outputs": [
    {
     "name": "stdout",
     "output_type": "stream",
     "text": [
      "[1, 4, 5, 6, 7, 8, 9]\n"
     ]
    }
   ],
   "source": [
    "l5 = [1,4,5,6,7,8,9]\n",
    "print(l5)"
   ]
  },
  {
   "cell_type": "code",
   "execution_count": 70,
   "id": "063bc3b6-3989-40b0-9efd-225807021726",
   "metadata": {},
   "outputs": [
    {
     "name": "stdout",
     "output_type": "stream",
     "text": [
      "[23, 12, 34, 5, 6, 87, 98]\n"
     ]
    }
   ],
   "source": [
    "l6 = [23,12,34,5,6,87,98]\n",
    "print(l6)"
   ]
  },
  {
   "cell_type": "code",
   "execution_count": 71,
   "id": "55337d8d-eaee-4eae-a5d4-8f5dec0e66ee",
   "metadata": {},
   "outputs": [
    {
     "name": "stdout",
     "output_type": "stream",
     "text": [
      "[5, 6, 12, 23, 34, 87, 98]\n"
     ]
    }
   ],
   "source": [
    "l6.sort()\n",
    "print(l6)"
   ]
  },
  {
   "cell_type": "code",
   "execution_count": 72,
   "id": "6eeaa5fb-6572-4ea1-b773-f0bb1720609b",
   "metadata": {},
   "outputs": [
    {
     "name": "stdout",
     "output_type": "stream",
     "text": [
      "[98, 87, 34, 23, 12, 6, 5]\n"
     ]
    }
   ],
   "source": [
    "l6.sort(reverse=True)\n",
    "print(l6)"
   ]
  },
  {
   "cell_type": "code",
   "execution_count": 73,
   "id": "5ce4436a-f038-4ce0-8cc2-0f49b3de3c5e",
   "metadata": {},
   "outputs": [
    {
     "name": "stdout",
     "output_type": "stream",
     "text": [
      "[2, 3, 6]\n",
      "2\n",
      "6\n"
     ]
    }
   ],
   "source": [
    "print(l1)\n",
    "print(l1[0])\n",
    "print(l1[-1])"
   ]
  },
  {
   "cell_type": "markdown",
   "id": "37a1f122-3ef1-4ed0-8fc3-dfb66343356f",
   "metadata": {},
   "source": [
    "# Change value"
   ]
  },
  {
   "cell_type": "code",
   "execution_count": 74,
   "id": "a33566b1-284d-481f-bf64-bf01f14848fc",
   "metadata": {},
   "outputs": [
    {
     "data": {
      "text/plain": [
       "[2, 3, 6]"
      ]
     },
     "execution_count": 74,
     "metadata": {},
     "output_type": "execute_result"
    }
   ],
   "source": [
    "l1"
   ]
  },
  {
   "cell_type": "code",
   "execution_count": 77,
   "id": "55d53864-acbd-4430-b52b-6f1712c89028",
   "metadata": {},
   "outputs": [
    {
     "name": "stdout",
     "output_type": "stream",
     "text": [
      "3\n"
     ]
    }
   ],
   "source": [
    "l1[1]=3\n",
    "print(l1[1])"
   ]
  },
  {
   "cell_type": "code",
   "execution_count": 78,
   "id": "2e1c37dd-ac6e-4c1b-be0c-25ba4a871611",
   "metadata": {},
   "outputs": [
    {
     "data": {
      "text/plain": [
       "[1, 4, 5, 6, 7, 8, 9]"
      ]
     },
     "execution_count": 78,
     "metadata": {},
     "output_type": "execute_result"
    }
   ],
   "source": [
    "l5"
   ]
  },
  {
   "cell_type": "code",
   "execution_count": 79,
   "id": "f5921154-ec9f-4e8b-a2a1-b77c136246a9",
   "metadata": {},
   "outputs": [
    {
     "data": {
      "text/plain": [
       "[5]"
      ]
     },
     "execution_count": 79,
     "metadata": {},
     "output_type": "execute_result"
    }
   ],
   "source": [
    "l5[2:3]"
   ]
  },
  {
   "cell_type": "code",
   "execution_count": 80,
   "id": "b34349b1-c09c-462b-8d3e-a246e60549c9",
   "metadata": {},
   "outputs": [
    {
     "data": {
      "text/plain": [
       "[5, 6]"
      ]
     },
     "execution_count": 80,
     "metadata": {},
     "output_type": "execute_result"
    }
   ],
   "source": [
    "l5[2:4]"
   ]
  },
  {
   "cell_type": "code",
   "execution_count": 81,
   "id": "c91e4038-4482-4046-953c-81d83906b7e1",
   "metadata": {},
   "outputs": [
    {
     "name": "stdout",
     "output_type": "stream",
     "text": [
      "[1, 4, 's1', 's2', 7, 8, 9]\n"
     ]
    }
   ],
   "source": [
    "l5[2:4]=['s1','s2']\n",
    "print(l5)"
   ]
  },
  {
   "cell_type": "code",
   "execution_count": 82,
   "id": "8972733a-d6db-45de-acfe-1517006dbde2",
   "metadata": {},
   "outputs": [
    {
     "data": {
      "text/plain": [
       "[2, 3, 6]"
      ]
     },
     "execution_count": 82,
     "metadata": {},
     "output_type": "execute_result"
    }
   ],
   "source": [
    "l1"
   ]
  },
  {
   "cell_type": "code",
   "execution_count": 84,
   "id": "f9e9ffc0-208c-4d98-ad5c-7eaf8a4ae938",
   "metadata": {},
   "outputs": [
    {
     "data": {
      "text/plain": [
       "[2, 3, 6, 5, 5]"
      ]
     },
     "execution_count": 84,
     "metadata": {},
     "output_type": "execute_result"
    }
   ],
   "source": [
    "l1.append(5)\n",
    "l1"
   ]
  },
  {
   "cell_type": "code",
   "execution_count": 85,
   "id": "dc759cbc-5430-44ff-80f1-15f4338621c5",
   "metadata": {},
   "outputs": [
    {
     "data": {
      "text/plain": [
       "['insert', 2, 3, 6, 5, 5]"
      ]
     },
     "execution_count": 85,
     "metadata": {},
     "output_type": "execute_result"
    }
   ],
   "source": [
    "l1.insert(0,'insert')\n",
    "l1"
   ]
  },
  {
   "cell_type": "code",
   "execution_count": 100,
   "id": "be22274a-9359-4d1d-b2c8-94546c49767c",
   "metadata": {},
   "outputs": [
    {
     "ename": "IndexError",
     "evalue": "list assignment index out of range",
     "output_type": "error",
     "traceback": [
      "\u001b[1;31m---------------------------------------------------------------------------\u001b[0m",
      "\u001b[1;31mIndexError\u001b[0m                                Traceback (most recent call last)",
      "Cell \u001b[1;32mIn[100], line 1\u001b[0m\n\u001b[1;32m----> 1\u001b[0m \u001b[38;5;28;01mdel\u001b[39;00m l1[\u001b[38;5;241m2\u001b[39m]\n",
      "\u001b[1;31mIndexError\u001b[0m: list assignment index out of range"
     ]
    }
   ],
   "source": [
    "del l1[2]"
   ]
  },
  {
   "cell_type": "code",
   "execution_count": 101,
   "id": "4839ee39-0019-4c17-a16e-def3b0952f9b",
   "metadata": {},
   "outputs": [
    {
     "data": {
      "text/plain": [
       "['insert']"
      ]
     },
     "execution_count": 101,
     "metadata": {},
     "output_type": "execute_result"
    }
   ],
   "source": [
    "l1"
   ]
  },
  {
   "cell_type": "code",
   "execution_count": 102,
   "id": "8c426a50-02ed-41e7-a82e-7691ace171f4",
   "metadata": {},
   "outputs": [
    {
     "name": "stdout",
     "output_type": "stream",
     "text": [
      "Help on class list in module builtins:\n",
      "\n",
      "class list(object)\n",
      " |  list(iterable=(), /)\n",
      " |  \n",
      " |  Built-in mutable sequence.\n",
      " |  \n",
      " |  If no argument is given, the constructor creates a new empty list.\n",
      " |  The argument must be an iterable if specified.\n",
      " |  \n",
      " |  Methods defined here:\n",
      " |  \n",
      " |  __add__(self, value, /)\n",
      " |      Return self+value.\n",
      " |  \n",
      " |  __contains__(self, key, /)\n",
      " |      Return key in self.\n",
      " |  \n",
      " |  __delitem__(self, key, /)\n",
      " |      Delete self[key].\n",
      " |  \n",
      " |  __eq__(self, value, /)\n",
      " |      Return self==value.\n",
      " |  \n",
      " |  __ge__(self, value, /)\n",
      " |      Return self>=value.\n",
      " |  \n",
      " |  __getattribute__(self, name, /)\n",
      " |      Return getattr(self, name).\n",
      " |  \n",
      " |  __getitem__(...)\n",
      " |      x.__getitem__(y) <==> x[y]\n",
      " |  \n",
      " |  __gt__(self, value, /)\n",
      " |      Return self>value.\n",
      " |  \n",
      " |  __iadd__(self, value, /)\n",
      " |      Implement self+=value.\n",
      " |  \n",
      " |  __imul__(self, value, /)\n",
      " |      Implement self*=value.\n",
      " |  \n",
      " |  __init__(self, /, *args, **kwargs)\n",
      " |      Initialize self.  See help(type(self)) for accurate signature.\n",
      " |  \n",
      " |  __iter__(self, /)\n",
      " |      Implement iter(self).\n",
      " |  \n",
      " |  __le__(self, value, /)\n",
      " |      Return self<=value.\n",
      " |  \n",
      " |  __len__(self, /)\n",
      " |      Return len(self).\n",
      " |  \n",
      " |  __lt__(self, value, /)\n",
      " |      Return self<value.\n",
      " |  \n",
      " |  __mul__(self, value, /)\n",
      " |      Return self*value.\n",
      " |  \n",
      " |  __ne__(self, value, /)\n",
      " |      Return self!=value.\n",
      " |  \n",
      " |  __repr__(self, /)\n",
      " |      Return repr(self).\n",
      " |  \n",
      " |  __reversed__(self, /)\n",
      " |      Return a reverse iterator over the list.\n",
      " |  \n",
      " |  __rmul__(self, value, /)\n",
      " |      Return value*self.\n",
      " |  \n",
      " |  __setitem__(self, key, value, /)\n",
      " |      Set self[key] to value.\n",
      " |  \n",
      " |  __sizeof__(self, /)\n",
      " |      Return the size of the list in memory, in bytes.\n",
      " |  \n",
      " |  append(self, object, /)\n",
      " |      Append object to the end of the list.\n",
      " |  \n",
      " |  clear(self, /)\n",
      " |      Remove all items from list.\n",
      " |  \n",
      " |  copy(self, /)\n",
      " |      Return a shallow copy of the list.\n",
      " |  \n",
      " |  count(self, value, /)\n",
      " |      Return number of occurrences of value.\n",
      " |  \n",
      " |  extend(self, iterable, /)\n",
      " |      Extend list by appending elements from the iterable.\n",
      " |  \n",
      " |  index(self, value, start=0, stop=9223372036854775807, /)\n",
      " |      Return first index of value.\n",
      " |      \n",
      " |      Raises ValueError if the value is not present.\n",
      " |  \n",
      " |  insert(self, index, object, /)\n",
      " |      Insert object before index.\n",
      " |  \n",
      " |  pop(self, index=-1, /)\n",
      " |      Remove and return item at index (default last).\n",
      " |      \n",
      " |      Raises IndexError if list is empty or index is out of range.\n",
      " |  \n",
      " |  remove(self, value, /)\n",
      " |      Remove first occurrence of value.\n",
      " |      \n",
      " |      Raises ValueError if the value is not present.\n",
      " |  \n",
      " |  reverse(self, /)\n",
      " |      Reverse *IN PLACE*.\n",
      " |  \n",
      " |  sort(self, /, *, key=None, reverse=False)\n",
      " |      Sort the list in ascending order and return None.\n",
      " |      \n",
      " |      The sort is in-place (i.e. the list itself is modified) and stable (i.e. the\n",
      " |      order of two equal elements is maintained).\n",
      " |      \n",
      " |      If a key function is given, apply it once to each list item and sort them,\n",
      " |      ascending or descending, according to their function values.\n",
      " |      \n",
      " |      The reverse flag can be set to sort in descending order.\n",
      " |  \n",
      " |  ----------------------------------------------------------------------\n",
      " |  Class methods defined here:\n",
      " |  \n",
      " |  __class_getitem__(...) from builtins.type\n",
      " |      See PEP 585\n",
      " |  \n",
      " |  ----------------------------------------------------------------------\n",
      " |  Static methods defined here:\n",
      " |  \n",
      " |  __new__(*args, **kwargs) from builtins.type\n",
      " |      Create and return a new object.  See help(type) for accurate signature.\n",
      " |  \n",
      " |  ----------------------------------------------------------------------\n",
      " |  Data and other attributes defined here:\n",
      " |  \n",
      " |  __hash__ = None\n",
      "\n"
     ]
    }
   ],
   "source": [
    "help(list)"
   ]
  }
 ],
 "metadata": {
  "kernelspec": {
   "display_name": "Python 3 (ipykernel)",
   "language": "python",
   "name": "python3"
  },
  "language_info": {
   "codemirror_mode": {
    "name": "ipython",
    "version": 3
   },
   "file_extension": ".py",
   "mimetype": "text/x-python",
   "name": "python",
   "nbconvert_exporter": "python",
   "pygments_lexer": "ipython3",
   "version": "3.11.7"
  }
 },
 "nbformat": 4,
 "nbformat_minor": 5
}
